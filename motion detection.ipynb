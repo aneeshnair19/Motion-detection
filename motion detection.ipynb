{
  "nbformat": 4,
  "nbformat_minor": 0,
  "metadata": {
    "colab": {
      "provenance": []
    },
    "kernelspec": {
      "name": "python3",
      "display_name": "Python 3"
    },
    "language_info": {
      "name": "python"
    }
  },
  "cells": [
    {
      "cell_type": "code",
      "execution_count": null,
      "metadata": {
        "id": "daj-CsLrUrd8"
      },
      "outputs": [],
      "source": [
        "from sense_hat import SenseHat\n",
        "import time, os\n",
        "import numpy as np\n",
        "\n",
        "LABEL = \"move_circle\"\n",
        "SAMPLES = 50\n",
        "FREQ_HZ = 50\n",
        "DELAY = 1.0 / FREQ_HZ\n",
        "\n",
        "save_dir = f\"./motion_data/{LABEL}\"\n",
        "os.makedirs(save_dir, exist_ok=True)\n",
        "\n",
        "sense = SenseHat()\n",
        "\n",
        "while True:\n",
        "    input(\"Press Enter to record 1 second...\")\n",
        "    data = []\n",
        "    for _ in range(SAMPLES):\n",
        "        acc = sense.get_accelerometer_raw()\n",
        "        gyro = sense.get_gyroscope_raw()\n",
        "        data.append([\n",
        "            acc['x'], acc['y'], acc['z'],\n",
        "            gyro['x'], gyro['y'], gyro['z']\n",
        "        ])\n",
        "        time.sleep(DELAY)\n",
        "    filename = f\"{LABEL}_{int(time.time())}.npy\"\n",
        "    np.save(os.path.join(save_dir, filename), np.array(data))\n",
        "    print(f\"Saved {filename}\")\n"
      ]
    },
    {
      "cell_type": "code",
      "source": [
        "model = tf.keras.Sequential([\n",
        "    tf.keras.layers.Input(shape=(300,)),\n",
        "    tf.keras.layers.Dense(128, activation='relu'),\n",
        "    tf.keras.layers.Dense(64, activation='relu'),\n",
        "    tf.keras.layers.Dense(4, activation='softmax')\n",
        "])\n",
        "\n",
        "model.compile(\n",
        "    optimizer='adam',\n",
        "    loss='categorical_crossentropy',\n",
        "    metrics=['accuracy']\n",
        ")\n",
        "\n",
        "model.fit(\n",
        "    X_train, y_train,\n",
        "    validation_data=(X_val, y_val),\n",
        "    batch_size=1,\n",
        "    epochs=15\n",
        ")\n"
      ],
      "metadata": {
        "id": "I6FAIikyUxHu"
      },
      "execution_count": null,
      "outputs": []
    },
    {
      "cell_type": "code",
      "source": [
        "interpreter = tf.lite.Interpreter(model_path=\"motion_model.tflite\") interpreter.allocate_tensors() input_details = interpreter.get_input_details() output_details = interpreter.get_output_details()\n",
        "samples = [read_imu_sample() for _ in range(50)] input_data = np.expand_dims(np.array(samples).flatten().astype(np.\n",
        "float32), axis=0)\n",
        "interpreter.set_tensor(input_details[0][’index’], input_data) interpreter.invoke() output = interpreter.get_tensor(output_details[0][’index’])[0]\n"
      ],
      "metadata": {
        "id": "D6DNBR1TU0yQ"
      },
      "execution_count": null,
      "outputs": []
    }
  ]
}